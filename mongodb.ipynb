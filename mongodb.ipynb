{
 "cells": [
  {
   "cell_type": "markdown",
   "metadata": {},
   "source": [
    "### Creating collections to mongodb"
   ]
  },
  {
   "cell_type": "code",
   "execution_count": 10,
   "metadata": {},
   "outputs": [],
   "source": [
    "from pymongo import MongoClient\n",
    "import pandas as pd"
   ]
  },
  {
   "cell_type": "code",
   "execution_count": 11,
   "metadata": {},
   "outputs": [],
   "source": [
    "Client = MongoClient('mongodb+srv://toludoyin:<password>@firstcluster1.qnnsh.mongodb.net/myFirstDatabase?retryWrites=true&w=majority')\n",
    "db = Client.get_database('Stocks_db')\n",
    "records = db.Stocks_record"
   ]
  },
  {
   "cell_type": "markdown",
   "metadata": {},
   "source": [
    "### To count document"
   ]
  },
  {
   "cell_type": "code",
   "execution_count": 12,
   "metadata": {
    "scrolled": true
   },
   "outputs": [
    {
     "data": {
      "text/plain": [
       "1"
      ]
     },
     "execution_count": 12,
     "metadata": {},
     "output_type": "execute_result"
    }
   ],
   "source": [
    "records.count_documents({})"
   ]
  },
  {
   "cell_type": "markdown",
   "metadata": {},
   "source": [
    "### To create new document"
   ]
  },
  {
   "cell_type": "code",
   "execution_count": 13,
   "metadata": {},
   "outputs": [],
   "source": [
    "new_stocks ={\n",
    "    'name':\"MTN\",\n",
    "    'revenue':10.21,\n",
    "    'founder':\" Ralph Mupita\",\n",
    "    'stock_price':+153.00,\n",
    "}"
   ]
  },
  {
   "cell_type": "code",
   "execution_count": 14,
   "metadata": {},
   "outputs": [
    {
     "data": {
      "text/plain": [
       "<pymongo.results.InsertOneResult at 0x11a47e440>"
      ]
     },
     "execution_count": 14,
     "metadata": {},
     "output_type": "execute_result"
    }
   ],
   "source": [
    "records.insert_one(new_stocks)"
   ]
  },
  {
   "cell_type": "code",
   "execution_count": 15,
   "metadata": {},
   "outputs": [],
   "source": [
    "new_stocks =[\n",
    "    {\n",
    "        'name':\"Shell\",\n",
    "        'revenue':180.5,\n",
    "        'founder':\"Samuel Samue\",\n",
    "        'stock_price':-0.25\n",
    "    },\n",
    "    {\n",
    "        'name':\"Nestle\",\n",
    "        'revenue':91.43,\n",
    "        'founder':\"Henri Nestlé\",\n",
    "        'stock_price':-0.30\n",
    "    },\n",
    "    {\n",
    "        'name':\"Chevron\",\n",
    "        'stock_price':-0.22\n",
    "    }\n",
    "]"
   ]
  },
  {
   "cell_type": "code",
   "execution_count": 16,
   "metadata": {},
   "outputs": [
    {
     "data": {
      "text/plain": [
       "<pymongo.results.InsertManyResult at 0x11a466400>"
      ]
     },
     "execution_count": 16,
     "metadata": {},
     "output_type": "execute_result"
    }
   ],
   "source": [
    "records.insert_many(new_stocks)"
   ]
  },
  {
   "cell_type": "markdown",
   "metadata": {},
   "source": [
    "### Find document"
   ]
  },
  {
   "cell_type": "code",
   "execution_count": 17,
   "metadata": {
    "scrolled": true
   },
   "outputs": [
    {
     "data": {
      "text/plain": [
       "[{'_id': ObjectId('613240ab73088216c8c69c24'),\n",
       "  'name': 'Tesla',\n",
       "  'revenue': Decimal128('31.54'),\n",
       "  'founder': 'Elon Musk',\n",
       "  'stock_price': Decimal128('-5.29')},\n",
       " {'_id': ObjectId('6139fc7a7ae46b334c511764'),\n",
       "  'name': 'MTN',\n",
       "  'revenue': 10.21,\n",
       "  'founder': ' Ralph Mupita',\n",
       "  'stock_price': 153.0},\n",
       " {'_id': ObjectId('6139fc7f7ae46b334c511765'),\n",
       "  'name': 'Shell',\n",
       "  'revenue': 180.5,\n",
       "  'founder': 'Samuel Samue',\n",
       "  'stock_price': -0.25},\n",
       " {'_id': ObjectId('6139fc7f7ae46b334c511766'),\n",
       "  'name': 'Nestle',\n",
       "  'revenue': 91.43,\n",
       "  'founder': 'Henri Nestlé',\n",
       "  'stock_price': -0.3},\n",
       " {'_id': ObjectId('6139fc7f7ae46b334c511767'),\n",
       "  'name': 'Chevron',\n",
       "  'stock_price': -0.22}]"
      ]
     },
     "execution_count": 17,
     "metadata": {},
     "output_type": "execute_result"
    }
   ],
   "source": [
    "list(records.find())"
   ]
  },
  {
   "cell_type": "code",
   "execution_count": 18,
   "metadata": {},
   "outputs": [
    {
     "data": {
      "text/plain": [
       "{'_id': ObjectId('6139fc7a7ae46b334c511764'),\n",
       " 'name': 'MTN',\n",
       " 'revenue': 10.21,\n",
       " 'founder': ' Ralph Mupita',\n",
       " 'stock_price': 153.0}"
      ]
     },
     "execution_count": 18,
     "metadata": {},
     "output_type": "execute_result"
    }
   ],
   "source": [
    "records.find_one({'revenue':10.21})"
   ]
  },
  {
   "cell_type": "markdown",
   "metadata": {},
   "source": [
    "### Update document"
   ]
  },
  {
   "cell_type": "code",
   "execution_count": 19,
   "metadata": {},
   "outputs": [],
   "source": [
    "Stock_updates = {\n",
    "    'name':'Shellll'\n",
    "}"
   ]
  },
  {
   "cell_type": "code",
   "execution_count": 20,
   "metadata": {},
   "outputs": [
    {
     "data": {
      "text/plain": [
       "<pymongo.results.UpdateResult at 0x11a45d800>"
      ]
     },
     "execution_count": 20,
     "metadata": {},
     "output_type": "execute_result"
    }
   ],
   "source": [
    "records.update_one({'revenue':180.5},{'$set':Stock_updates})"
   ]
  },
  {
   "cell_type": "markdown",
   "metadata": {},
   "source": [
    "### Delete document"
   ]
  },
  {
   "cell_type": "code",
   "execution_count": 21,
   "metadata": {},
   "outputs": [
    {
     "data": {
      "text/plain": [
       "<pymongo.results.DeleteResult at 0x11a49fac0>"
      ]
     },
     "execution_count": 21,
     "metadata": {},
     "output_type": "execute_result"
    }
   ],
   "source": [
    "records.delete_one({'revenue':180.5 })"
   ]
  },
  {
   "cell_type": "code",
   "execution_count": 22,
   "metadata": {},
   "outputs": [
    {
     "data": {
      "text/plain": [
       "[{'_id': ObjectId('613240ab73088216c8c69c24'),\n",
       "  'name': 'Tesla',\n",
       "  'revenue': Decimal128('31.54'),\n",
       "  'founder': 'Elon Musk',\n",
       "  'stock_price': Decimal128('-5.29')},\n",
       " {'_id': ObjectId('6139fc7a7ae46b334c511764'),\n",
       "  'name': 'MTN',\n",
       "  'revenue': 10.21,\n",
       "  'founder': ' Ralph Mupita',\n",
       "  'stock_price': 153.0},\n",
       " {'_id': ObjectId('6139fc7f7ae46b334c511766'),\n",
       "  'name': 'Nestle',\n",
       "  'revenue': 91.43,\n",
       "  'founder': 'Henri Nestlé',\n",
       "  'stock_price': -0.3},\n",
       " {'_id': ObjectId('6139fc7f7ae46b334c511767'),\n",
       "  'name': 'Chevron',\n",
       "  'stock_price': -0.22}]"
      ]
     },
     "execution_count": 22,
     "metadata": {},
     "output_type": "execute_result"
    }
   ],
   "source": [
    "stocks = list(records.find())\n",
    "stocks"
   ]
  },
  {
   "cell_type": "code",
   "execution_count": 23,
   "metadata": {},
   "outputs": [
    {
     "data": {
      "text/html": [
       "<div>\n",
       "<style scoped>\n",
       "    .dataframe tbody tr th:only-of-type {\n",
       "        vertical-align: middle;\n",
       "    }\n",
       "\n",
       "    .dataframe tbody tr th {\n",
       "        vertical-align: top;\n",
       "    }\n",
       "\n",
       "    .dataframe thead th {\n",
       "        text-align: right;\n",
       "    }\n",
       "</style>\n",
       "<table border=\"1\" class=\"dataframe\">\n",
       "  <thead>\n",
       "    <tr style=\"text-align: right;\">\n",
       "      <th></th>\n",
       "      <th>_id</th>\n",
       "      <th>name</th>\n",
       "      <th>revenue</th>\n",
       "      <th>founder</th>\n",
       "      <th>stock_price</th>\n",
       "    </tr>\n",
       "  </thead>\n",
       "  <tbody>\n",
       "    <tr>\n",
       "      <th>0</th>\n",
       "      <td>613240ab73088216c8c69c24</td>\n",
       "      <td>Tesla</td>\n",
       "      <td>31.54</td>\n",
       "      <td>Elon Musk</td>\n",
       "      <td>-5.29</td>\n",
       "    </tr>\n",
       "    <tr>\n",
       "      <th>1</th>\n",
       "      <td>6139fc7a7ae46b334c511764</td>\n",
       "      <td>MTN</td>\n",
       "      <td>10.21</td>\n",
       "      <td>Ralph Mupita</td>\n",
       "      <td>153</td>\n",
       "    </tr>\n",
       "    <tr>\n",
       "      <th>2</th>\n",
       "      <td>6139fc7f7ae46b334c511766</td>\n",
       "      <td>Nestle</td>\n",
       "      <td>91.43</td>\n",
       "      <td>Henri Nestlé</td>\n",
       "      <td>-0.3</td>\n",
       "    </tr>\n",
       "    <tr>\n",
       "      <th>3</th>\n",
       "      <td>6139fc7f7ae46b334c511767</td>\n",
       "      <td>Chevron</td>\n",
       "      <td>NaN</td>\n",
       "      <td>NaN</td>\n",
       "      <td>-0.22</td>\n",
       "    </tr>\n",
       "  </tbody>\n",
       "</table>\n",
       "</div>"
      ],
      "text/plain": [
       "                        _id     name revenue        founder stock_price\n",
       "0  613240ab73088216c8c69c24    Tesla   31.54      Elon Musk       -5.29\n",
       "1  6139fc7a7ae46b334c511764      MTN   10.21   Ralph Mupita         153\n",
       "2  6139fc7f7ae46b334c511766   Nestle   91.43   Henri Nestlé        -0.3\n",
       "3  6139fc7f7ae46b334c511767  Chevron     NaN            NaN       -0.22"
      ]
     },
     "execution_count": 23,
     "metadata": {},
     "output_type": "execute_result"
    }
   ],
   "source": [
    "stocks = pd.DataFrame(stocks)\n",
    "stocks"
   ]
  },
  {
   "cell_type": "code",
   "execution_count": 24,
   "metadata": {},
   "outputs": [
    {
     "name": "stdout",
     "output_type": "stream",
     "text": [
      "<class 'pandas.core.frame.DataFrame'>\n",
      "RangeIndex: 4 entries, 0 to 3\n",
      "Data columns (total 5 columns):\n",
      " #   Column       Non-Null Count  Dtype \n",
      "---  ------       --------------  ----- \n",
      " 0   _id          4 non-null      object\n",
      " 1   name         4 non-null      object\n",
      " 2   revenue      3 non-null      object\n",
      " 3   founder      3 non-null      object\n",
      " 4   stock_price  4 non-null      object\n",
      "dtypes: object(5)\n",
      "memory usage: 288.0+ bytes\n"
     ]
    }
   ],
   "source": [
    "stocks.info()"
   ]
  },
  {
   "cell_type": "code",
   "execution_count": null,
   "metadata": {},
   "outputs": [],
   "source": []
  }
 ],
 "metadata": {
  "kernelspec": {
   "display_name": "Python 3",
   "language": "python",
   "name": "python3"
  },
  "language_info": {
   "codemirror_mode": {
    "name": "ipython",
    "version": 3
   },
   "file_extension": ".py",
   "mimetype": "text/x-python",
   "name": "python",
   "nbconvert_exporter": "python",
   "pygments_lexer": "ipython3",
   "version": "3.8.3"
  }
 },
 "nbformat": 4,
 "nbformat_minor": 4
}
